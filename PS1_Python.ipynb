{
 "cells": [
  {
   "cell_type": "markdown",
   "id": "5d010051",
   "metadata": {},
   "source": [
    "# Question 6"
   ]
  },
  {
   "cell_type": "code",
   "execution_count": 2,
   "id": "f72f3576",
   "metadata": {},
   "outputs": [
    {
     "name": "stdout",
     "output_type": "stream",
     "text": [
      "Enter a Sentence: oven\n",
      "Pig Latin:  ovenay\n"
     ]
    }
   ],
   "source": [
    "sentence = input('Enter a Sentence: ').lower()\n",
    "ws = sentence.split()\n",
    "\n",
    "for i, w in enumerate(ws):\n",
    "    \n",
    "    \n",
    "    if w[0] in 'aeiou':\n",
    "        ws[i] = ws[i]+ \"ay\"\n",
    "    else:\n",
    "        has_vowel = False\n",
    "        \n",
    "        for j, letter in enumerate(w):\n",
    "            if letter in 'aeiou':\n",
    "                ws[i] = w[j:] + w[:j] + \"ay\"\n",
    "                has_vowel = True\n",
    "                break\n",
    "\n",
    "        if(has_vowel == False):\n",
    "            ws[i] = ws[i]+ \"ay\"\n",
    "\n",
    "pig_latin = ' '.join(ws)\n",
    "print(\"Pig Latin: \",pig_latin)"
   ]
  },
  {
   "cell_type": "markdown",
   "id": "553f36b2",
   "metadata": {},
   "source": [
    "# Question 7"
   ]
  },
  {
   "cell_type": "code",
   "execution_count": 25,
   "id": "259d9dec",
   "metadata": {},
   "outputs": [
    {
     "name": "stdout",
     "output_type": "stream",
     "text": [
      "There are  13 patients of blood type AB\n",
      "There are  1 patients of blood type B\n",
      "There are  15 patients of blood type O\n",
      "There are  15 patients of blood type A\n"
     ]
    }
   ],
   "source": [
    "from collections import Counter\n",
    "with open('bloodtype.txt') as f:\n",
    "    count=Counter (x.strip() for x in f)\n",
    "    for x in count:\n",
    "        print(\"There are \",count[x],\"patients of blood type\",x)"
   ]
  },
  {
   "cell_type": "code",
   "execution_count": null,
   "id": "0951b985",
   "metadata": {},
   "outputs": [],
   "source": []
  },
  {
   "cell_type": "markdown",
   "id": "4476b262",
   "metadata": {},
   "source": [
    "# QUESTION 8"
   ]
  },
  {
   "cell_type": "code",
   "execution_count": 3,
   "id": "e914d84c",
   "metadata": {},
   "outputs": [
    {
     "name": "stdout",
     "output_type": "stream",
     "text": [
      "Enter the name of the currency you want to convert this amount to?\n",
      "\n",
      "AUD\n",
      "CHF\n",
      "CNY\n",
      "DKK\n",
      "EUR\n",
      "GBP\n",
      "HKD\n",
      "INR\n",
      "JPY\n",
      "MXN\n",
      "MYR\n",
      "NOK\n",
      "NZD\n",
      "PHP\n",
      "SEK\n",
      "SGD\n",
      "THB\n",
      "\n",
      " Please enter one of these values: \n",
      "EUR\n",
      "\n",
      " Enter amount:\n",
      "100\n",
      "122.96544 EUR\n"
     ]
    }
   ],
   "source": [
    "with open('currency.txt') as f:\n",
    "    lines = f.readlines()\n",
    "\n",
    "currencyS = {}\n",
    "for line in lines:\n",
    "    parsed = line.split(\"\\t\")\n",
    "    currencyS[parsed[0]] = parsed[1]\n",
    "\n",
    "print(\"Enter the name of the currency you want to convert this amount to?\\n\")\n",
    "[print(item) for item in currencyS.keys()]\n",
    "currency = input(\"\\n Please enter one of these values: \\n\")\n",
    "amount = int(input(\"\\n Enter amount:\\n\"))\n",
    "\n",
    "print(f\"{amount *float(currencyS[currency])} {currency}\")"
   ]
  },
  {
   "cell_type": "markdown",
   "id": "a500eaa6",
   "metadata": {},
   "source": [
    "# QUESTION 9\n",
    "\n",
    "- 6 + 'A' ---> unsupported operand\n",
    "- 12th item of 10 item list ---> index error\n",
    "- math.sqrt(-1.0) --->  math domain error\n",
    "- print(x) --->  not defined\n",
    "- opening wrong file --->  no such file or directory"
   ]
  },
  {
   "cell_type": "markdown",
   "id": "d7549cbe",
   "metadata": {},
   "source": [
    "# Question 10\n",
    "\n"
   ]
  },
  {
   "cell_type": "markdown",
   "id": "b1436eb5",
   "metadata": {},
   "source": [
    "- Reference (https://stackoverflow.com/)"
   ]
  },
  {
   "cell_type": "code",
   "execution_count": 14,
   "id": "09a63a6b",
   "metadata": {},
   "outputs": [
    {
     "name": "stdout",
     "output_type": "stream",
     "text": [
      "Enter a word: apple\n",
      "1\n",
      "1\n",
      "1\n",
      "2\n"
     ]
    }
   ],
   "source": [
    "word = input(\"Enter a word: \")\n",
    "\n",
    "x = ['a','b','c','d','e','f','g','h','i','j','k','l','m','n','o','p','q','r','s','t','u','v','w','x','y','z']\n",
    "\n",
    "hits = [\n",
    "    (x[i], word.count(x[i]))\n",
    "    for i in range(len(x))\n",
    "    if word.count(x[i])\n",
    "]\n",
    "\n",
    "for l, frequency in hits:\n",
    "    print (frequency)"
   ]
  },
  {
   "cell_type": "code",
   "execution_count": null,
   "id": "32862cd2",
   "metadata": {},
   "outputs": [],
   "source": []
  }
 ],
 "metadata": {
  "kernelspec": {
   "display_name": "Python 3 (ipykernel)",
   "language": "python",
   "name": "python3"
  },
  "language_info": {
   "codemirror_mode": {
    "name": "ipython",
    "version": 3
   },
   "file_extension": ".py",
   "mimetype": "text/x-python",
   "name": "python",
   "nbconvert_exporter": "python",
   "pygments_lexer": "ipython3",
   "version": "3.9.12"
  }
 },
 "nbformat": 4,
 "nbformat_minor": 5
}
