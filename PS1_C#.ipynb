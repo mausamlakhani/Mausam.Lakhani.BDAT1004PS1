{
 "cells": [
  {
   "cell_type": "markdown",
   "id": "e7c71365",
   "metadata": {},
   "source": [
    "# Question 1\n",
    "\n",
    "What datatype is each of the following?\n",
    "\n",
    "- 5 --->  Integer\n",
    "- 5.0 ---> Integer\n",
    "- 5 > 1 ---> Comparison Operator\n",
    "- 5 * 2 ---> Arithmetic Operators\n",
    "- '5' * 2 ---> Arithmetic Operators\n",
    "- '5' + '2' --->  Arithmetic Operators\n",
    "- 5 / 2 ---> Arithmetic Operators\n",
    "- 5 % 2 ---> Arithmetic Operators\n",
    "- {5, 2, 1} ---> Array\n",
    "- 5 == 3 ---> Comparison Operators\n",
    "- pi (the number) ---> Float"
   ]
  },
  {
   "cell_type": "markdown",
   "id": "4719acf6",
   "metadata": {},
   "source": [
    "# Question 2\n",
    "\n",
    "Write c# expression that answer the following questions:\n",
    "- How many letter are there in 'Supercalifragilisticexpialidoccious'?"
   ]
  },
  {
   "cell_type": "code",
   "execution_count": 3,
   "id": "ce91f79c",
   "metadata": {},
   "outputs": [
    {
     "name": "stdout",
     "output_type": "stream",
     "text": [
      "The string Supercalifragilisticexpialidoccious contains 35 letters.\n"
     ]
    }
   ],
   "source": [
    "//string type\n",
    "    string a = \"Supercalifragilisticexpialidoccious\";\n",
    "\n",
    "//using string.length() method\n",
    "    int aLength = a.Length;\n",
    "    Console.WriteLine(\"The string \" + a + \" contains \" + aLength + \" \" +\"letters.\");"
   ]
  },
  {
   "cell_type": "markdown",
   "id": "b6617ae3",
   "metadata": {},
   "source": [
    "# Question 2\n",
    "Write c# expression that answer the following questions:\n",
    "\n",
    "- Does 'Supercalifragilisticexpialidoccious' contain 'ice' as substring?"
   ]
  },
  {
   "cell_type": "code",
   "execution_count": 2,
   "id": "edb9430c",
   "metadata": {},
   "outputs": [
    {
     "name": "stdout",
     "output_type": "stream",
     "text": [
      "True\n"
     ]
    }
   ],
   "source": [
    "// string type\n",
    "     String str = \"Supercalifragilisticexpialidoccious\";\n",
    "     String str1 = \"ice\";\n",
    "  \n",
    "// using String.Contains() Method\n",
    "     Console.WriteLine(str.Contains(str1));"
   ]
  },
  {
   "cell_type": "markdown",
   "id": "ffefa429",
   "metadata": {},
   "source": [
    "# Question 2\n",
    "Write c# expression that answer the following questions:\n",
    "\n",
    "- which of the following word is the longest Supercalifragilisticexpialidoccious , Honorificabilitudinitatibus or Bababadalgharaghtakamminarronnkonn ?"
   ]
  },
  {
   "cell_type": "code",
   "execution_count": 38,
   "id": "4dae268c",
   "metadata": {},
   "outputs": [
    {
     "name": "stdout",
     "output_type": "stream",
     "text": [
      "Supercalifragilisticexpialidoccious"
     ]
    }
   ],
   "source": [
    "//string type\n",
    "        string[] ex = {\"Supercalifragilisticexpialidoccious\", \"Honorificabilitudinitatibus\", \"Bababadalgharaghtakamminarronnkonn\"};\n",
    "          \n",
    "        string longest_string = ex[0];\n",
    "        \n",
    "//using foreach loop\n",
    "        foreach (string a in ex) {\n",
    "            if (a.Length > longest_string.Length) {\n",
    "                longest_string = a;\n",
    "            }\n",
    "        }\n",
    "        Console.Write(longest_string);"
   ]
  },
  {
   "cell_type": "markdown",
   "id": "3191a2a4",
   "metadata": {},
   "source": [
    "# Question 2\n",
    "Write c# expression that answer the following questions:\n",
    "\n",
    "- Which composer comes first in the dictionary :  'Berlioz' , 'Borodin' , 'Brian' , 'Bartok' , 'Bellini' , 'Buxtehude' , 'Bernstein' . Which Comes last?"
   ]
  },
  {
   "cell_type": "code",
   "execution_count": 40,
   "id": "cbd42de9",
   "metadata": {},
   "outputs": [
    {
     "name": "stdout",
     "output_type": "stream",
     "text": [
      "1 Berlioz\n",
      "2 Bartok\n",
      "3 Bernstein\n",
      "4 Brian\n",
      "5 Buxtehude\n",
      "6 Bellini\n",
      "7 Borodin\n"
     ]
    }
   ],
   "source": [
    "SortedDictionary<string, string> names = new SortedDictionary<string, string>(); \n",
    "           names.Add(\"1\", \"Berlioz\"); \n",
    "           names.Add(\"7\", \"Borodin\");\n",
    "           names.Add(\"4\", \"Brian\");\n",
    "           names.Add(\"2\", \"Bartok\"); \n",
    "           names.Add(\"6\", \"Bellini\");\n",
    "           names.Add(\"5\", \"Buxtehude\");\n",
    "           names.Add(\"3\", \"Bernstein\");\n",
    "           foreach (KeyValuePair<string, string> kv in names)\n",
    "           {\n",
    "                 Console.WriteLine(kv.Key + \" \" + kv.Value);\n",
    "           }"
   ]
  },
  {
   "cell_type": "markdown",
   "id": "27d06519",
   "metadata": {},
   "source": [
    "# Question 3\n",
    "\n",
    "- Implement function triangleArea(a,b,c) that takes as input the length of the 3 sides of a triangle and returns the area of the triangle. BY Heron's formula. "
   ]
  },
  {
   "cell_type": "code",
   "execution_count": 83,
   "id": "81ebd31d",
   "metadata": {},
   "outputs": [
    {
     "name": "stdout",
     "output_type": "stream",
     "text": [
      "Area of a Triangle = 1.7320508075688772"
     ]
    }
   ],
   "source": [
    "int side1 = 2, side2 = 2, side3 = 2;\n",
    "        \n",
    "double semiperimeter = (side1 + side2 + side3) / 2;\n",
    "double Area = Math.Sqrt(semiperimeter * (semiperimeter - side1) * (semiperimeter - side2) * (semiperimeter - side3));\n",
    "Console.Write(\"Area of a Triangle = \" + Area);"
   ]
  },
  {
   "cell_type": "markdown",
   "id": "5c1d8ab9",
   "metadata": {},
   "source": [
    "# Question 4\n",
    "\n",
    "- Write a c# program to seperate odd and even inetger in seperate arrays"
   ]
  },
  {
   "cell_type": "code",
   "execution_count": 97,
   "id": "a90c6497",
   "metadata": {},
   "outputs": [
    {
     "name": "stdout",
     "output_type": "stream",
     "text": [
      "Even numbers...\n",
      "34\n",
      "42\n",
      "Odd numbers...\n",
      "77\n",
      "59\n",
      "99\n"
     ]
    }
   ],
   "source": [
    "int[] A1 = new int[] {\n",
    "            77,\n",
    "            34,\n",
    "            59,\n",
    "            42,\n",
    "            99\n",
    "         };\n",
    "         int[] A2 = new int[5];\n",
    "         int[] A3 = new int[5];\n",
    "         int i, j = 0, k = 0;\n",
    "         for (i = 0; i < 5; i++) {\n",
    "            if (A1[i] % 2 == 0) {\n",
    "               A2[j] = A1[i];\n",
    "               j++;\n",
    "            } else {\n",
    "               A3[k] = A1[i];\n",
    "               k++;\n",
    "            }\n",
    "         }\n",
    "         Console.WriteLine(\"Even numbers...\");\n",
    "         for (i = 0; i < j; i++) {\n",
    "            Console.WriteLine(A2[i]);\n",
    "         }\n",
    "         Console.WriteLine(\"Odd numbers...\");\n",
    "         for (i = 0; i < k; i++) {\n",
    "            Console.WriteLine(A3[i]);\n",
    "         }\n"
   ]
  },
  {
   "cell_type": "markdown",
   "id": "84451766",
   "metadata": {},
   "source": [
    "# Question 5\n",
    "\n",
    "- Write a c# function that return true or false depending on the point(x,y) lies in the rectangle with lower left  corner (x1,y1) and upper right corner (x2,y2)"
   ]
  },
  {
   "cell_type": "code",
   "execution_count": 110,
   "id": "832ec86c",
   "metadata": {},
   "outputs": [],
   "source": [
    "static bool Inside(double x1, double y1, double x2, double y2, double x, double y)\n",
    "{\n",
    "    if (x > x1 && x < x2 && y > y1 && y < y2)\n",
    "        return true;\n",
    "    else \n",
    "        return false;\n",
    "}"
   ]
  },
  {
   "cell_type": "code",
   "execution_count": 111,
   "id": "04952749",
   "metadata": {},
   "outputs": [
    {
     "name": "stdout",
     "output_type": "stream",
     "text": [
      "Yes"
     ]
    }
   ],
   "source": [
    "double x1 = 0, y1 = 0,\n",
    "        x2 = 10, y2 = 8;\n",
    " \n",
    "    \n",
    "\n",
    "    double x = 1, y = 5;\n",
    " \n",
    "    \n",
    "    if (Inside(x1, y1, x2, y2, x, y))\n",
    "        Console.Write(\"Yes\");\n",
    "    else\n",
    "        Console.Write(\"No\");"
   ]
  },
  {
   "cell_type": "markdown",
   "id": "b50aa0e8",
   "metadata": {},
   "source": [
    "# Question 5\n",
    "\n",
    "- Using function inside() from part a. write an expression to check where point (1,1) lies."
   ]
  },
  {
   "cell_type": "code",
   "execution_count": 113,
   "id": "aa4634aa",
   "metadata": {},
   "outputs": [
    {
     "name": "stdout",
     "output_type": "stream",
     "text": [
      "No"
     ]
    }
   ],
   "source": [
    "double x1 = 0.3, y1 = 0.5,\n",
    "        x2 = 1.1, y2 = 0.7;\n",
    " \n",
    "    \n",
    "    double x = 1, y = 1;\n",
    " \n",
    "    \n",
    "    if (Inside(x1, y1, x2, y2, x, y))\n",
    "        Console.Write(\"Yes\");\n",
    "    else\n",
    "        Console.Write(\"No\");"
   ]
  },
  {
   "cell_type": "code",
   "execution_count": 114,
   "id": "2cc4b666",
   "metadata": {},
   "outputs": [
    {
     "name": "stdout",
     "output_type": "stream",
     "text": [
      "Yes"
     ]
    }
   ],
   "source": [
    "double x1 = 0.5, y1 = 0.2,\n",
    "        x2 = 1.1, y2 = 2;\n",
    " \n",
    "    \n",
    "    double x = 1, y = 1;\n",
    " \n",
    "    \n",
    "    if (Inside(x1, y1, x2, y2, x, y))\n",
    "        Console.Write(\"Yes\");\n",
    "    else\n",
    "        Console.Write(\"No\");"
   ]
  },
  {
   "cell_type": "code",
   "execution_count": null,
   "id": "97d87860",
   "metadata": {},
   "outputs": [],
   "source": []
  },
  {
   "cell_type": "code",
   "execution_count": null,
   "id": "66edbe56",
   "metadata": {},
   "outputs": [],
   "source": []
  },
  {
   "cell_type": "code",
   "execution_count": null,
   "id": "7e200672",
   "metadata": {},
   "outputs": [],
   "source": []
  }
 ],
 "metadata": {
  "kernelspec": {
   "display_name": ".NET (C#)",
   "language": "C#",
   "name": ".net-csharp"
  },
  "language_info": {
   "file_extension": ".cs",
   "mimetype": "text/x-csharp",
   "name": "C#",
   "pygments_lexer": "csharp",
   "version": "8.0"
  }
 },
 "nbformat": 4,
 "nbformat_minor": 5
}
